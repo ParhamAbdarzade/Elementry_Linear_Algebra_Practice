{
 "cells": [
  {
   "cell_type": "code",
   "execution_count": 1,
   "id": "b6be06e8",
   "metadata": {},
   "outputs": [],
   "source": [
    "import numpy as np\n",
    "import matplotlib.pyplot as plt\n",
    "%matplotlib inline"
   ]
  },
  {
   "cell_type": "markdown",
   "id": "2663e9c7",
   "metadata": {},
   "source": [
    "**1.2**\n",
    "**Gauss–Jordan Elimination**"
   ]
  },
  {
   "cell_type": "code",
   "execution_count": 25,
   "id": "2ecf9494",
   "metadata": {},
   "outputs": [],
   "source": [
    "def elimination_forward(A):\n",
    "    def left_most_nonzero_column_ix_jx(A, start_ix, jx):\n",
    "        for i in range(start_ix, A.shape[0]):\n",
    "            if A[i, jx] != 0:\n",
    "                return True, i, jx\n",
    "            \n",
    "        if jx < A.shape[1] - 2:\n",
    "            return left_most_nonzero_column_ix_jx(A, start_ix, jx+1)\n",
    "        \n",
    "        else: return False, 0, 0\n",
    "        \n",
    "    def interchange_row(A, i1, i2):\n",
    "        A[[i1, i2]] = A[[i2,  i1]]\n",
    "        return A\n",
    "    \n",
    "    def mul_ix_row_by_inv_ix_jx_term(A, ix, jx):\n",
    "        A[ix] *= (1 / A[ix, jx])\n",
    "        return A  \n",
    "    \n",
    "    def add_ix_row_to_rows(A, ix, jx):\n",
    "        for i in range(ix + 1, A.shape[0]):\n",
    "            if A[i, jx] != 0:\n",
    "                A[i] += (-1 * A[i, jx]) * A[ix]\n",
    "        return A\n",
    "        \n",
    "    jx = 0\n",
    "    pivots = []\n",
    "    for ix in range(A.shape[0]):\n",
    "        found, ix_containing_one, jx = left_most_nonzero_column_ix_jx(A, ix, jx)\n",
    "        if not found:\n",
    "            break\n",
    "        if ix_containing_one != ix:\n",
    "            A = interchange_row(A, ix_containing_one, ix)\n",
    "            \n",
    "        pivots.append((ix, jx))\n",
    "        A = mul_ix_row_by_inv_ix_jx_term(A, ix, jx)\n",
    "        A = add_ix_row_to_rows(A, ix, jx)\n",
    "        jx += 1\n",
    "    return A, pivots\n",
    "    \n",
    "def elimination_backward(A, pivots):\n",
    "    while len(pivots) != 0:\n",
    "        ix, jx = pivots.pop()\n",
    "        if ix == 0:\n",
    "            break\n",
    "        for i in range(0, ix):\n",
    "            A[i] += (-1 * A[i, jx]) * A[ix]\n",
    "    return A"
   ]
  },
  {
   "cell_type": "code",
   "execution_count": 49,
   "id": "bf9c08d3",
   "metadata": {},
   "outputs": [
    {
     "name": "stdout",
     "output_type": "stream",
     "text": [
      "[[  0.   0.  -2.   0.   7.  12.]\n",
      " [  2.   4. -10.   6.  12.  28.]\n",
      " [  2.   4.  -5.   6.  -5.  -1.]]\n"
     ]
    },
    {
     "data": {
      "text/plain": [
       "array([[1., 2., 0., 3., 0., 7.],\n",
       "       [0., 0., 1., 0., 0., 1.],\n",
       "       [0., 0., 0., 0., 1., 2.]])"
      ]
     },
     "execution_count": 49,
     "metadata": {},
     "output_type": "execute_result"
    }
   ],
   "source": [
    "arr = np.array([[0, 0, -2, 0, 7, 12,], [2, 4, -10, 6, 12, 28,], [2, 4, -5, 6, -5, -1,]], dtype = float)\n",
    "print(arr)\n",
    "forward_arr, pivots = elimination_forward(arr)\n",
    "elimination_backward(forward_arr, pivots)"
   ]
  },
  {
   "cell_type": "code",
   "execution_count": 50,
   "id": "c5ee15af",
   "metadata": {},
   "outputs": [
    {
     "name": "stdout",
     "output_type": "stream",
     "text": [
      "[[ 1.  3. -2.  0.  2.  0.  0.]\n",
      " [ 2.  6. -5. -2.  4. -3. -1.]\n",
      " [ 0.  0.  5. 10.  0. 15.  5.]\n",
      " [ 2.  6.  0.  8.  4. 18.  6.]]\n"
     ]
    },
    {
     "data": {
      "text/plain": [
       "array([[ 1.        ,  3.        ,  0.        ,  4.        ,  2.        ,\n",
       "         0.        ,  0.        ],\n",
       "       [-0.        , -0.        ,  1.        ,  2.        , -0.        ,\n",
       "         0.        ,  0.        ],\n",
       "       [ 0.        ,  0.        ,  0.        ,  0.        ,  0.        ,\n",
       "         1.        ,  0.33333333],\n",
       "       [ 0.        ,  0.        ,  0.        ,  0.        ,  0.        ,\n",
       "         0.        ,  0.        ]])"
      ]
     },
     "execution_count": 50,
     "metadata": {},
     "output_type": "execute_result"
    }
   ],
   "source": [
    "arr = np.array([[1, 3, -2, 0, 2, 0, 0,],\n",
    "                [2, 6, -5, -2, 4, -3, -1,],\n",
    "                [0, 0, 5, 10, 0, 15, 5],\n",
    "                [2, 6, 0, 8, 4, 18, 6]], dtype = float)\n",
    "print(arr)\n",
    "forward_arr, pivots = elimination_forward(arr)\n",
    "elimination_backward(forward_arr, pivots)"
   ]
  },
  {
   "cell_type": "markdown",
   "id": "08f79bca",
   "metadata": {},
   "source": [
    "**1.3 Multiplying Matrices**"
   ]
  },
  {
   "cell_type": "code",
   "execution_count": 46,
   "id": "827a853d",
   "metadata": {},
   "outputs": [],
   "source": [
    "def matrix_product(A, B):\n",
    "    assert A.shape[1] == B.shape[0], f'shapes ({A.shape[0]},{A.shape[1]}) and ({B.shape[0]},{B.shape[1]}) not aligned'\n",
    "    C = np.zeros((A.shape[0], B.shape[1]))\n",
    "    \n",
    "    for i in range(C.shape[0]):\n",
    "        for j in range(C.shape[1]):\n",
    "            for k in range(A.shape[1]):\n",
    "                C[i,j] += A[i,k] * B[k,j]\n",
    "    return C"
   ]
  },
  {
   "cell_type": "code",
   "execution_count": 47,
   "id": "9e82bb84",
   "metadata": {},
   "outputs": [
    {
     "data": {
      "text/plain": [
       "array([[ 6., 12.],\n",
       "       [ 4.,  8.]])"
      ]
     },
     "execution_count": 47,
     "metadata": {},
     "output_type": "execute_result"
    }
   ],
   "source": [
    "A = np.array([[2,3,1], [1,2,1]])\n",
    "B = np.array([[1,1,1], [2,2,2]]).T\n",
    "matrix_product(A, B)"
   ]
  },
  {
   "cell_type": "code",
   "execution_count": 48,
   "id": "3832e27b",
   "metadata": {},
   "outputs": [
    {
     "data": {
      "text/plain": [
       "array([[ 6, 12],\n",
       "       [ 4,  8]])"
      ]
     },
     "execution_count": 48,
     "metadata": {},
     "output_type": "execute_result"
    }
   ],
   "source": [
    "A.dot(B)"
   ]
  },
  {
   "cell_type": "code",
   "execution_count": 67,
   "id": "1b69ca4c",
   "metadata": {},
   "outputs": [],
   "source": [
    "def transpos(A):\n",
    "    AT = np.zeros((A.shape[1], A.shape[0]), dtype = A.dtype)\n",
    "    for i in range(AT.shape[0]):\n",
    "        AT[i] = A[:, i]\n",
    "    return AT"
   ]
  },
  {
   "cell_type": "code",
   "execution_count": 68,
   "id": "d5451043",
   "metadata": {},
   "outputs": [
    {
     "data": {
      "text/plain": [
       "array([[1, 1, 1],\n",
       "       [2, 2, 2]])"
      ]
     },
     "execution_count": 68,
     "metadata": {},
     "output_type": "execute_result"
    }
   ],
   "source": [
    "transpos(B)"
   ]
  },
  {
   "cell_type": "code",
   "execution_count": 64,
   "id": "af727b44",
   "metadata": {},
   "outputs": [
    {
     "data": {
      "text/plain": [
       "array([[1, 1, 1],\n",
       "       [2, 2, 2]])"
      ]
     },
     "execution_count": 64,
     "metadata": {},
     "output_type": "execute_result"
    }
   ],
   "source": [
    "B.T"
   ]
  },
  {
   "cell_type": "code",
   "execution_count": 69,
   "id": "a2a3bc2f",
   "metadata": {},
   "outputs": [],
   "source": [
    "def trace(A):\n",
    "    assert A.shape[0] == A.shape[1], f'({A.shape[0]},{A.shape[1]}) is not a square matrix'\n",
    "    s = 0\n",
    "    for i in range(A.shape[0]):\n",
    "        s += A[i,i]\n",
    "    return s"
   ]
  },
  {
   "cell_type": "code",
   "execution_count": 73,
   "id": "a0acb574",
   "metadata": {},
   "outputs": [
    {
     "data": {
      "text/plain": [
       "3"
      ]
     },
     "execution_count": 73,
     "metadata": {},
     "output_type": "execute_result"
    }
   ],
   "source": [
    "trace(np.array([[1,1], [0,2]]))"
   ]
  },
  {
   "cell_type": "code",
   "execution_count": null,
   "id": "48876c64",
   "metadata": {},
   "outputs": [],
   "source": []
  }
 ],
 "metadata": {
  "kernelspec": {
   "display_name": "Python 3 (ipykernel)",
   "language": "python",
   "name": "python3"
  },
  "language_info": {
   "codemirror_mode": {
    "name": "ipython",
    "version": 3
   },
   "file_extension": ".py",
   "mimetype": "text/x-python",
   "name": "python",
   "nbconvert_exporter": "python",
   "pygments_lexer": "ipython3",
   "version": "3.9.13"
  }
 },
 "nbformat": 4,
 "nbformat_minor": 5
}
